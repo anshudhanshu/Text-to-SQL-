{
 "cells": [
  {
   "cell_type": "code",
   "execution_count": 3,
   "metadata": {
    "colab": {
     "base_uri": "https://localhost:8080/"
    },
    "id": "mwMMMtAenJeP",
    "outputId": "9de5a7c6-04da-4a3a-8d89-0e8ae9dff8de"
   },
   "outputs": [
    {
     "name": "stdout",
     "output_type": "stream",
     "text": [
      "PDF pages rotated and saved to \"output.pdf\"\n"
     ]
    }
   ],
   "source": [
    "import PyPDF2\n",
    "\n",
    "# Open the PDF file you want to rotate\n",
    "with open('/content/file1.pdf', 'rb') as pdf_file:\n",
    "    pdf_reader = PyPDF2.PdfReader(pdf_file)\n",
    "    pdf_writer = PyPDF2.PdfWriter()\n",
    "\n",
    "    # Create a new PDF file for the rotated pages\n",
    "    with open('output.pdf', 'wb') as output_file:\n",
    "        for page_num in range(len(pdf_reader.pages)):\n",
    "            page = pdf_reader.pages[page_num]\n",
    "            page.rotate(90)  # Rotate the page 90 degrees clockwise\n",
    "            pdf_writer.add_page(page)\n",
    "\n",
    "        pdf_writer.write(output_file)\n",
    "\n",
    "print('PDF pages rotated and saved to \"output.pdf\"')\n"
   ]
  },
  {
   "cell_type": "code",
   "execution_count": 5,
   "metadata": {
    "colab": {
     "base_uri": "https://localhost:8080/"
    },
    "id": "rZVnbBEXqYGH",
    "outputId": "0975a1d0-bd83-4fcf-911e-14c6b3c84cd4"
   },
   "outputs": [
    {
     "name": "stdout",
     "output_type": "stream",
     "text": [
      "Reading package lists... Done\n",
      "Building dependency tree... Done\n",
      "Reading state information... Done\n",
      "The following additional packages will be installed:\n",
      "  tesseract-ocr-eng tesseract-ocr-osd\n",
      "The following NEW packages will be installed:\n",
      "  tesseract-ocr tesseract-ocr-eng tesseract-ocr-osd\n",
      "0 upgraded, 3 newly installed, 0 to remove and 19 not upgraded.\n",
      "Need to get 4,816 kB of archives.\n",
      "After this operation, 15.6 MB of additional disk space will be used.\n",
      "Get:1 http://archive.ubuntu.com/ubuntu jammy/universe amd64 tesseract-ocr-eng all 1:4.00~git30-7274cfa-1.1 [1,591 kB]\n",
      "Get:2 http://archive.ubuntu.com/ubuntu jammy/universe amd64 tesseract-ocr-osd all 1:4.00~git30-7274cfa-1.1 [2,990 kB]\n",
      "Get:3 http://archive.ubuntu.com/ubuntu jammy/universe amd64 tesseract-ocr amd64 4.1.1-2.1build1 [236 kB]\n",
      "Fetched 4,816 kB in 1s (4,182 kB/s)\n",
      "debconf: unable to initialize frontend: Dialog\n",
      "debconf: (No usable dialog-like program is installed, so the dialog based frontend cannot be used. at /usr/share/perl5/Debconf/FrontEnd/Dialog.pm line 78, <> line 3.)\n",
      "debconf: falling back to frontend: Readline\n",
      "debconf: unable to initialize frontend: Readline\n",
      "debconf: (This frontend requires a controlling tty.)\n",
      "debconf: falling back to frontend: Teletype\n",
      "dpkg-preconfigure: unable to re-open stdin: \n",
      "Selecting previously unselected package tesseract-ocr-eng.\n",
      "(Reading database ... 120874 files and directories currently installed.)\n",
      "Preparing to unpack .../tesseract-ocr-eng_1%3a4.00~git30-7274cfa-1.1_all.deb ...\n",
      "Unpacking tesseract-ocr-eng (1:4.00~git30-7274cfa-1.1) ...\n",
      "Selecting previously unselected package tesseract-ocr-osd.\n",
      "Preparing to unpack .../tesseract-ocr-osd_1%3a4.00~git30-7274cfa-1.1_all.deb ...\n",
      "Unpacking tesseract-ocr-osd (1:4.00~git30-7274cfa-1.1) ...\n",
      "Selecting previously unselected package tesseract-ocr.\n",
      "Preparing to unpack .../tesseract-ocr_4.1.1-2.1build1_amd64.deb ...\n",
      "Unpacking tesseract-ocr (4.1.1-2.1build1) ...\n",
      "Setting up tesseract-ocr-eng (1:4.00~git30-7274cfa-1.1) ...\n",
      "Setting up tesseract-ocr-osd (1:4.00~git30-7274cfa-1.1) ...\n",
      "Setting up tesseract-ocr (4.1.1-2.1build1) ...\n",
      "Processing triggers for man-db (2.10.2-1) ...\n",
      "Collecting pytesseract\n",
      "  Downloading pytesseract-0.3.10-py3-none-any.whl (14 kB)\n",
      "Requirement already satisfied: packaging>=21.3 in /usr/local/lib/python3.10/dist-packages (from pytesseract) (23.2)\n",
      "Requirement already satisfied: Pillow>=8.0.0 in /usr/local/lib/python3.10/dist-packages (from pytesseract) (9.4.0)\n",
      "Installing collected packages: pytesseract\n",
      "Successfully installed pytesseract-0.3.10\n"
     ]
    }
   ],
   "source": [
    "!sudo apt install tesseract-ocr\n",
    "!pip install pytesseract"
   ]
  },
  {
   "cell_type": "code",
   "execution_count": 11,
   "metadata": {
    "colab": {
     "base_uri": "https://localhost:8080/"
    },
    "id": "zl3sC01wf1OE",
    "outputId": "4bc89432-6d7a-45bc-f5a2-42741c485ba8"
   },
   "outputs": [
    {
     "name": "stdout",
     "output_type": "stream",
     "text": [
      "Reading package lists... Done\n",
      "Building dependency tree... Done\n",
      "Reading state information... Done\n",
      "The following NEW packages will be installed:\n",
      "  poppler-utils\n",
      "0 upgraded, 1 newly installed, 0 to remove and 19 not upgraded.\n",
      "Need to get 186 kB of archives.\n",
      "After this operation, 696 kB of additional disk space will be used.\n",
      "Get:1 http://archive.ubuntu.com/ubuntu jammy-updates/main amd64 poppler-utils amd64 22.02.0-2ubuntu0.2 [186 kB]\n",
      "Fetched 186 kB in 0s (959 kB/s)\n",
      "Selecting previously unselected package poppler-utils.\n",
      "(Reading database ... 120921 files and directories currently installed.)\n",
      "Preparing to unpack .../poppler-utils_22.02.0-2ubuntu0.2_amd64.deb ...\n",
      "Unpacking poppler-utils (22.02.0-2ubuntu0.2) ...\n",
      "Setting up poppler-utils (22.02.0-2ubuntu0.2) ...\n",
      "Processing triggers for man-db (2.10.2-1) ...\n"
     ]
    }
   ],
   "source": [
    "# pip install pdf2image\n",
    "!apt-get install poppler-utils"
   ]
  },
  {
   "cell_type": "code",
   "execution_count": 12,
   "metadata": {
    "colab": {
     "base_uri": "https://localhost:8080/"
    },
    "id": "pkICeqCSfzWl",
    "outputId": "4aa90591-e4cb-4b75-beb0-38913ac154d6"
   },
   "outputs": [
    {
     "name": "stdout",
     "output_type": "stream",
     "text": [
      "Successfully converted PDF to images\n"
     ]
    }
   ],
   "source": [
    "from pdf2image import convert_from_path\n",
    "\n",
    "pdf_images = convert_from_path('/content/output.pdf')\n",
    "\n",
    "for idx in range(len(pdf_images)):\n",
    "    pdf_images[idx].save('pdf_page_'+ str(idx+1) +'.jpg', 'JPEG')\n",
    "print(\"Successfully converted PDF to images\")"
   ]
  },
  {
   "cell_type": "code",
   "execution_count": 13,
   "metadata": {
    "id": "MrGqhQHjqEDP"
   },
   "outputs": [],
   "source": [
    "import pytesseract\n",
    "pytesseract.pytesseract.tesseract_cmd = r'/usr/bin/tesseract'"
   ]
  },
  {
   "cell_type": "code",
   "execution_count": 14,
   "metadata": {
    "id": "o2qGs7x6YZ2i"
   },
   "outputs": [],
   "source": [
    "import pytesseract\n",
    "\n",
    "from PIL import Image\n",
    "import pytesseract\n",
    "text = pytesseract.image_to_string(Image.open('/content/pdf_page_1.jpg'))\n",
    "\n"
   ]
  },
  {
   "cell_type": "code",
   "execution_count": null,
   "metadata": {
    "id": "QvlEJVXBg-e0"
   },
   "outputs": [],
   "source": [
    "# !pip install -q openai"
   ]
  },
  {
   "cell_type": "code",
   "execution_count": 17,
   "metadata": {
    "id": "iueE0nW6liFA"
   },
   "outputs": [],
   "source": [
    "import openai\n",
    "# Configure OpenAI API key\n",
    "openai.api_key = \"Your OpenAI Key\"\n",
    "def generate_completion(prompt, model=\"gpt-3.5-turbo\", max_tokens=1000, temperature=0):\n",
    "\n",
    "    # Create a list of message objects with the user's prompt\n",
    "    messages = [\n",
    "        {\"role\": \"system\", \"content\": \"You are a MySql query generating bot.\"},\n",
    "        {\"role\": \"user\", \"content\": prompt},\n",
    "    ]\n",
    "\n",
    "    # Call the OpenAI API to generate a completion\n",
    "    response = openai.ChatCompletion.create(\n",
    "        model=model,\n",
    "        messages=messages,\n",
    "        max_tokens=max_tokens,\n",
    "        temperature=temperature,\n",
    "    )\n",
    "\n",
    "    # Extract and return the generated text from the API response\n",
    "    return response['choices'][0]['message']['content']"
   ]
  },
  {
   "cell_type": "code",
   "execution_count": 18,
   "metadata": {
    "id": "n24C1OpQuMoX"
   },
   "outputs": [],
   "source": [
    "prompt = \"Convert the given text into  table:   {Text} \""
   ]
  },
  {
   "cell_type": "code",
   "execution_count": 19,
   "metadata": {
    "colab": {
     "base_uri": "https://localhost:8080/"
    },
    "id": "0zr6x-28ugD4",
    "outputId": "b50ea855-b75e-4913-a7f4-6010b3a04e70"
   },
   "outputs": [
    {
     "name": "stdout",
     "output_type": "stream",
     "text": [
      "Here is the converted table:\n",
      "\n",
      "| NPS | Seat Retainer Upstream | Seat Retainer Downstream | Seat Retainer Upstream | Seat Retainer Downstream | Seat Retainer Upstream | Seat Retainer Downstream | Seat Retainer Upstream | Seat Retainer Downstream |\n",
      "|-----|-----------------------|-------------------------|-----------------------|-------------------------|-----------------------|-------------------------|-----------------------|-------------------------|\n",
      "| 2   | 155                   | 760                     | 70                    | 220                     | 705                   | 260                     | 200                   | 280                     |\n",
      "| 2.5 | 170                   | 200                     | 190                   | 240                     | 210                   | 280                     | 210                   | 300                     |\n",
      "| 3   | 185                   | 90                      | 210                   | 260                     | 225                   | 300                     | 230                   | 20                      |\n",
      "| 4   | 275                   | 320                     | 300                   | 370                     | 315                   | 420                     | 320                   | 460                     |\n",
      "| 5   | 550                   | 650                     | 640                   | 800                     | 705                   | 940                     | 730                   | 1040                    |\n",
      "| 6   | 620                   | 1000                    | 770                   | 960                     | 25                    | 1100                    | 840                   | 1200                    |\n",
      "| 8   | 1280                  | 1500                    | 1400                  | 1700                    | 1500                  | 11950                   | 1570                  | 2100                    |\n",
      "| 10  | 2400                  | 2800                    | 2640                  | 3300                    | 2820                  | 3760                    | 2870                  | 4100                    |\n",
      "| 12  | 3500                  | 4100                    | 4000                  | 5000                    | 4400                  | 5900                    | 4550                  | 6500                    |\n",
      "| 14  | 5400                  | 6300                    | 520                   | 740                     | 640                   | 3500                    | 665                   | 9500                    |\n",
      "| 16  | 7700                  | 9100                    | 9040                  | 11300                   | 10300                 | 13500                   | 10500                 | 15000                   |\n",
      "| 18  | 11900                 | 14000                   | 13.6                  | 17000                   | 15000                 | 20000                   | 15400                 | 22000                   |\n",
      "| 20  | 15300                 | 18000                   | 17300                 | 21300                   | 18500                 | 24700                   | 27680                 | 27000                   |\n",
      "| 24  | 24650                 | 290000                  | 27680                 | 27680                   | 27680                 | 27680                   | 30800                 | 44000                   |\n",
      "| 28  | 34850                 | 41000                   | 37600                 | 47000                   | 144300                | 59200                   | 44500                 | 63500                   |\n",
      "| 30  | 39950                 | 47000                   | 4296                  | 53700                   | 50800                 | 67700                   | 52500                 | 75000                   |\n",
      "| 32  | 45000                 | 45000                   | 53000                 | 48500                   | 50800                 | 57600                   | 27680                 | 5800                    |\n",
      "| 36  | 54000                 | 54000                   | 64000                 | 64300                   | 27680                 | 73500                   | 27680                 | 7000                    |\n",
      "| 40  | 62000                 | 62000                   | 73000                 | 73600                   | 192000                | 82500                   | 110000                | 184700                  |\n",
      "| 42  | 71000                 | 85000                   | 34000                 | 105000                  | 95250                 | 127000                  | 1000                  | 143000                  |\n",
      "| 48  | 98000                 | 98000                   | 115000                | 121600                  | 152                   | 142500                  | 190000                | 151900                  |\n",
      "| 54  | 136000                | 136000                  | 160\n"
     ]
    }
   ],
   "source": [
    "print(generate_completion(prompt.format(Text=text)))"
   ]
  },
  {
   "cell_type": "code",
   "execution_count": null,
   "metadata": {
    "id": "KBxBUQrXdg2o"
   },
   "outputs": [],
   "source": []
  }
 ],
 "metadata": {
  "colab": {
   "provenance": [],
   "toc_visible": true
  },
  "kernelspec": {
   "display_name": "Python 3 (ipykernel)",
   "language": "python",
   "name": "python3"
  },
  "language_info": {
   "codemirror_mode": {
    "name": "ipython",
    "version": 3
   },
   "file_extension": ".py",
   "mimetype": "text/x-python",
   "name": "python",
   "nbconvert_exporter": "python",
   "pygments_lexer": "ipython3",
   "version": "3.11.4"
  }
 },
 "nbformat": 4,
 "nbformat_minor": 4
}
